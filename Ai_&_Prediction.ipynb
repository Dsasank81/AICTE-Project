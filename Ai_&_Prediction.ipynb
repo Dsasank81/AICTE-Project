{
  "nbformat": 4,
  "nbformat_minor": 0,
  "metadata": {
    "colab": {
      "provenance": [],
      "authorship_tag": "ABX9TyMfatpl2swNWAbvDxJmCBIk",
      "include_colab_link": true
    },
    "kernelspec": {
      "name": "python3",
      "display_name": "Python 3"
    },
    "language_info": {
      "name": "python"
    }
  },
  "cells": [
    {
      "cell_type": "markdown",
      "metadata": {
        "id": "view-in-github",
        "colab_type": "text"
      },
      "source": [
        "<a href=\"https://colab.research.google.com/github/Dsasank81/AICTE-Project/blob/main/Ai_%26_Prediction.ipynb\" target=\"_parent\"><img src=\"https://colab.research.google.com/assets/colab-badge.svg\" alt=\"Open In Colab\"/></a>"
      ]
    },
    {
      "cell_type": "code",
      "execution_count": null,
      "metadata": {
        "colab": {
          "base_uri": "https://localhost:8080/"
        },
        "id": "IxuFK1NBP4TH",
        "outputId": "c32c0b4e-6b43-4a79-8950-055548ba50ac"
      },
      "outputs": [
        {
          "output_type": "stream",
          "name": "stdout",
          "text": [
            "Collecting scikit-surprise\n",
            "  Downloading scikit_surprise-1.1.4.tar.gz (154 kB)\n",
            "\u001b[?25l     \u001b[90m━━━━━━━━━━━━━━━━━━━━━━━━━━━━━━━━━━━━━━━━\u001b[0m \u001b[32m0.0/154.4 kB\u001b[0m \u001b[31m?\u001b[0m eta \u001b[36m-:--:--\u001b[0m\r\u001b[2K     \u001b[90m━━━━━━━━━━━━━━━━━━━━━━━━━━━━━━━━━━━━━━━━\u001b[0m \u001b[32m154.4/154.4 kB\u001b[0m \u001b[31m7.2 MB/s\u001b[0m eta \u001b[36m0:00:00\u001b[0m\n",
            "\u001b[?25h  Installing build dependencies ... \u001b[?25l\u001b[?25hdone\n",
            "  Getting requirements to build wheel ... \u001b[?25l\u001b[?25hdone\n",
            "  Preparing metadata (pyproject.toml) ... \u001b[?25l\u001b[?25hdone\n",
            "Requirement already satisfied: joblib>=1.2.0 in /usr/local/lib/python3.10/dist-packages (from scikit-surprise) (1.4.2)\n",
            "Requirement already satisfied: numpy>=1.19.5 in /usr/local/lib/python3.10/dist-packages (from scikit-surprise) (1.26.4)\n",
            "Requirement already satisfied: scipy>=1.6.0 in /usr/local/lib/python3.10/dist-packages (from scikit-surprise) (1.13.1)\n",
            "Building wheels for collected packages: scikit-surprise\n",
            "  Building wheel for scikit-surprise (pyproject.toml) ... \u001b[?25l\u001b[?25hdone\n",
            "  Created wheel for scikit-surprise: filename=scikit_surprise-1.1.4-cp310-cp310-linux_x86_64.whl size=2357278 sha256=ebbb32b7d32bd03c64880fd01aeca3a6452bad7c2445dbbcd327e651c3476fe1\n",
            "  Stored in directory: /root/.cache/pip/wheels/4b/3f/df/6acbf0a40397d9bf3ff97f582cc22fb9ce66adde75bc71fd54\n",
            "Successfully built scikit-surprise\n",
            "Installing collected packages: scikit-surprise\n",
            "Successfully installed scikit-surprise-1.1.4\n"
          ]
        }
      ],
      "source": [
        "!pip install scikit-surprise"
      ]
    },
    {
      "cell_type": "code",
      "source": [
        "import numpy as np\n",
        "\n",
        "# Aircraft positions (x, y)two aircraft positions are shown in the same frequency, with the angle between them at 180 degrees. the angles are calculated using the function \"angle_between_positions.\" the position of the aircraft at the 180 degrees is 0 degrees, while the angle between the positions of the two aircraft at the 160 degrees is 0 degrees. this means that the position of the aircraft at the 160 degrees is 0 degrees. additionally, the position of the aircraft between the two aircrafts is 1 degree. this data is likely to be used in a simulation or training exercise.\n",
        "aircraft1 = np.array([0, 0])\n",
        "aircraft2 = np.array([100, 100])\n",
        "\n",
        "# Velocities (dx, dy)\n",
        "velocity1 = np.array([1, 1])\n",
        "velocity2 = np.array([-1, -1])\n",
        "\n",
        "# Distance threshold for collision avoidance\n",
        "threshold = 20\n",
        "\n",
        "# Simulate for 100 time steps\n",
        "for step in range(100):\n",
        "    aircraft1 += velocity1\n",
        "    aircraft2 += velocity2\n",
        "\n",
        "    # Calculate distance\n",
        "    distance = np.linalg.norm(aircraft1 - aircraft2)\n",
        "\n",
        "    # Check if within threshold\n",
        "    if distance < threshold:\n",
        "        print(f\"Alert! Aircraft too close at step {step}. Distance: {distance}\")\n",
        "        # Suggest simple avoidance maneuver\n",
        "        velocity1[0] *= -1\n",
        "        velocity2[0] *= -1\n"
      ],
      "metadata": {
        "id": "BIcvcfwhWxjB",
        "outputId": "e5d8eaeb-7ba5-46a4-ef5e-c48b29b80b6e",
        "colab": {
          "base_uri": "https://localhost:8080/"
        }
      },
      "execution_count": null,
      "outputs": [
        {
          "output_type": "stream",
          "name": "stdout",
          "text": [
            "Alert! Aircraft too close at step 42. Distance: 19.79898987322333\n"
          ]
        }
      ]
    },
    {
      "cell_type": "code",
      "source": [
        "# Install the required library\n",
        "!pip install scikit-surprise\n",
        "\n",
        "# Import necessary libraries\n",
        "import pandas as pd\n",
        "from surprise import Dataset, Reader, SVD, accuracy\n",
        "from surprise.model_selection import train_test_split\n",
        "\n",
        "# Sample data creation\n",
        "data_dict = {\n",
        "    'student_id': [1, 2, 3, 4, 1, 2, 3],\n",
        "    'course_id': [101, 101, 102, 103, 102, 103, 101],\n",
        "    'rating': [5, 4, 3, 2, 4, 5, 4]\n",
        "}\n",
        "ratings = pd.DataFrame(data_dict)\n",
        "\n",
        "# Load the dataset from the DataFrame\n",
        "reader = Reader(rating_scale=(1, 5))\n",
        "data = Dataset.load_from_df(ratings[['student_id', 'course_id', 'rating']], reader)\n",
        "\n",
        "# Split the data into training and testing sets\n",
        "trainset, testset = train_test_split(data, test_size=0.2)\n",
        "\n",
        "# Build and train the model using SVD\n",
        "algo = SVD()\n",
        "algo.fit(trainset)\n",
        "\n",
        "# Make predictions and evaluate the model\n",
        "predictions = algo.test(testset)\n",
        "rmse = accuracy.rmse(predictions)\n",
        "print(f'RMSE: {rmse}')\n",
        "\n",
        "# Function to generate course recommendations for a specific student\n",
        "def get_course_recommendations(student_id):\n",
        "    all_courses = ratings['course_id'].unique()\n",
        "    predictions = []\n",
        "    for course in all_courses:\n",
        "        if not any((ratings['student_id'] == student_id) & (ratings['course_id'] == course)):\n",
        "            pred = algo.predict(student_id, course)\n",
        "            predictions.append((course, pred.est))\n",
        "\n",
        "    recommendations = sorted(predictions, key=lambda x: x[1], reverse=True)\n",
        "    return recommendations[:3]  # Return top 3 recommendations\n",
        "\n",
        "# Example usage: Get course recommendations for student with ID 1\n",
        "print(get_course_recommendations(1))\n"
      ],
      "metadata": {
        "colab": {
          "base_uri": "https://localhost:8080/"
        },
        "id": "Y4grRYumP8Xw",
        "outputId": "8362c272-3d99-4cab-f84e-405a724e3c32"
      },
      "execution_count": null,
      "outputs": [
        {
          "output_type": "stream",
          "name": "stdout",
          "text": [
            "Requirement already satisfied: scikit-surprise in /usr/local/lib/python3.10/dist-packages (1.1.4)\n",
            "Requirement already satisfied: joblib>=1.2.0 in /usr/local/lib/python3.10/dist-packages (from scikit-surprise) (1.4.2)\n",
            "Requirement already satisfied: numpy>=1.19.5 in /usr/local/lib/python3.10/dist-packages (from scikit-surprise) (1.26.4)\n",
            "Requirement already satisfied: scipy>=1.6.0 in /usr/local/lib/python3.10/dist-packages (from scikit-surprise) (1.13.1)\n",
            "RMSE: 1.7387\n",
            "RMSE: 1.738704637643489\n",
            "[(103, 3.9842670539940466)]\n"
          ]
        }
      ]
    },
    {
      "cell_type": "code",
      "source": [
        "# Import necessary libraries\n",
        "import numpy as np\n",
        "import pandas as pd\n",
        "from sklearn.metrics.pairwise import cosine_similarity\n",
        "\n",
        "# Simulate learner data\n",
        "# Columns: Learner ID, Preferred Topics, Performance Score (0-100)\n",
        "learners_data = {\n",
        "    'Learner_ID': [1, 2, 3, 4, 5],\n",
        "    'Preferred_Topics': [\n",
        "        ['Math', 'Physics'],\n",
        "        ['History', 'Literature'],\n",
        "        ['Math', 'Computer Science'],\n",
        "        ['Art', 'History'],\n",
        "        ['Physics', 'Computer Science']\n",
        "    ],\n",
        "    'Performance_Score': [85, 70, 90, 60, 80]\n",
        "}\n",
        "\n",
        "# Simulate learning materials data\n",
        "# Columns: Material ID, Topic, Difficulty Level (1-5)\n",
        "materials_data = {\n",
        "    'Material_ID': [101, 102, 103, 104, 105],\n",
        "    'Topic': ['Math', 'Physics', 'History', 'Computer Science', 'Art'],\n",
        "    'Difficulty_Level': [3, 4, 2, 5, 1]\n",
        "}\n",
        "\n",
        "# Convert data to DataFrames\n",
        "learners_df = pd.DataFrame(learners_data)\n",
        "materials_df = pd.DataFrame(materials_data)\n",
        "\n",
        "# Function to recommend materials based on learner preferences\n",
        "def recommend_materials(learner_id, learners_df, materials_df):\n",
        "    # Get learner preferences\n",
        "    learner = learners_df[learners_df['Learner_ID'] == learner_id]\n",
        "    preferred_topics = learner['Preferred_Topics'].values[0]\n",
        "\n",
        "    # Filter materials based on preferred topics\n",
        "    recommended_materials = materials_df[materials_df['Topic'].isin(preferred_topics)]\n",
        "\n",
        "    return recommended_materials\n",
        "\n",
        "# Function to adapt recommendations based on performance\n",
        "def adapt_recommendations(learner_id, learners_df, materials_df):\n",
        "    # Get learner performance\n",
        "    learner = learners_df[learners_df['Learner_ID'] == learner_id]\n",
        "    performance_score = learner['Performance_Score'].values[0]\n",
        "\n",
        "    # Adjust difficulty level based on performance\n",
        "    if performance_score >= 80:\n",
        "        difficulty_level = 'Advanced'\n",
        "        filtered_materials = materials_df[materials_df['Difficulty_Level'] >= 4]\n",
        "    elif performance_score >= 60:\n",
        "        difficulty_level = 'Intermediate'\n",
        "        filtered_materials = materials_df[(materials_df['Difficulty_Level'] >= 2) & (materials_df['Difficulty_Level'] < 4)]\n",
        "    else:\n",
        "        difficulty_level = 'Beginner'\n",
        "        filtered_materials = materials_df[materials_df['Difficulty_Level'] < 2]\n",
        "\n",
        "    print(f\"Learner {learner_id} is at {difficulty_level} level.\")\n",
        "    return filtered_materials\n",
        "\n",
        "# Example usage\n",
        "learner_id = 3\n",
        "print(\"Recommended Materials based on Preferences:\")\n",
        "print(recommend_materials(learner_id, learners_df, materials_df))\n",
        "\n",
        "print(\"\\nAdapted Recommendations based on Performance:\")\n",
        "print(adapt_recommendations(learner_id, learners_df, materials_df))"
      ],
      "metadata": {
        "colab": {
          "base_uri": "https://localhost:8080/"
        },
        "id": "qYzWVHNbSAEn",
        "outputId": "15862dcf-8000-4a85-f51f-9dd70e49a342"
      },
      "execution_count": null,
      "outputs": [
        {
          "output_type": "stream",
          "name": "stdout",
          "text": [
            "Recommended Materials based on Preferences:\n",
            "   Material_ID             Topic  Difficulty_Level\n",
            "0          101              Math                 3\n",
            "3          104  Computer Science                 5\n",
            "\n",
            "Adapted Recommendations based on Performance:\n",
            "Learner 3 is at Advanced level.\n",
            "   Material_ID             Topic  Difficulty_Level\n",
            "1          102           Physics                 4\n",
            "3          104  Computer Science                 5\n"
          ]
        }
      ]
    }
  ]
}